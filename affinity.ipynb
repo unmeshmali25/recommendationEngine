{
 "cells": [
  {
   "cell_type": "code",
   "execution_count": 14,
   "metadata": {},
   "outputs": [],
   "source": [
    "import pandas as pd\n",
    "import numpy as np\n",
    "import torch\n",
    "from torch.utils.data import Dataset, DataLoader\n",
    "from torch import nn\n",
    "import torch.nn.functional as F\n",
    "from sklearn.preprocessing import LabelEncoder\n",
    "import ast"
   ]
  },
  {
   "cell_type": "code",
   "execution_count": 15,
   "metadata": {},
   "outputs": [],
   "source": [
    "#Load the data\n",
    "customer_base = pd.read_csv('customer_base.csv')\n",
    "product_base = pd.read_csv('product_base.csv')\n",
    "purchase_data = pd.read_csv('purchase_data.csv')"
   ]
  },
  {
   "cell_type": "code",
   "execution_count": 16,
   "metadata": {},
   "outputs": [
    {
     "data": {
      "text/html": [
       "<div>\n",
       "<style scoped>\n",
       "    .dataframe tbody tr th:only-of-type {\n",
       "        vertical-align: middle;\n",
       "    }\n",
       "\n",
       "    .dataframe tbody tr th {\n",
       "        vertical-align: top;\n",
       "    }\n",
       "\n",
       "    .dataframe thead th {\n",
       "        text-align: right;\n",
       "    }\n",
       "</style>\n",
       "<table border=\"1\" class=\"dataframe\">\n",
       "  <thead>\n",
       "    <tr style=\"text-align: right;\">\n",
       "      <th></th>\n",
       "      <th>Unnamed: 0</th>\n",
       "      <th>customer_idx</th>\n",
       "      <th>list_purch_product</th>\n",
       "      <th>list_purch_month_number</th>\n",
       "      <th>list_purch_txn_count</th>\n",
       "    </tr>\n",
       "  </thead>\n",
       "  <tbody>\n",
       "    <tr>\n",
       "      <th>0</th>\n",
       "      <td>0</td>\n",
       "      <td>1001</td>\n",
       "      <td>[101, 103, 105]</td>\n",
       "      <td>[1, 3, 5]</td>\n",
       "      <td>[2, 1, 1]</td>\n",
       "    </tr>\n",
       "    <tr>\n",
       "      <th>1</th>\n",
       "      <td>1</td>\n",
       "      <td>1002</td>\n",
       "      <td>[102, 104]</td>\n",
       "      <td>[2, 4]</td>\n",
       "      <td>[1, 2]</td>\n",
       "    </tr>\n",
       "    <tr>\n",
       "      <th>2</th>\n",
       "      <td>2</td>\n",
       "      <td>1003</td>\n",
       "      <td>[103, 103, 109]</td>\n",
       "      <td>[1, 2, 3]</td>\n",
       "      <td>[1, 1, 1]</td>\n",
       "    </tr>\n",
       "    <tr>\n",
       "      <th>3</th>\n",
       "      <td>3</td>\n",
       "      <td>1004</td>\n",
       "      <td>[108, 107]</td>\n",
       "      <td>[5, 6]</td>\n",
       "      <td>[3, 1]</td>\n",
       "    </tr>\n",
       "    <tr>\n",
       "      <th>4</th>\n",
       "      <td>4</td>\n",
       "      <td>1005</td>\n",
       "      <td>[101, 107, 103]</td>\n",
       "      <td>[1, 8, 12]</td>\n",
       "      <td>[1, 1, 1]</td>\n",
       "    </tr>\n",
       "    <tr>\n",
       "      <th>5</th>\n",
       "      <td>5</td>\n",
       "      <td>1006</td>\n",
       "      <td>[110]</td>\n",
       "      <td>[9]</td>\n",
       "      <td>[3]</td>\n",
       "    </tr>\n",
       "  </tbody>\n",
       "</table>\n",
       "</div>"
      ],
      "text/plain": [
       "   Unnamed: 0  customer_idx list_purch_product list_purch_month_number  \\\n",
       "0           0          1001    [101, 103, 105]               [1, 3, 5]   \n",
       "1           1          1002         [102, 104]                  [2, 4]   \n",
       "2           2          1003    [103, 103, 109]               [1, 2, 3]   \n",
       "3           3          1004         [108, 107]                  [5, 6]   \n",
       "4           4          1005    [101, 107, 103]              [1, 8, 12]   \n",
       "5           5          1006              [110]                     [9]   \n",
       "\n",
       "  list_purch_txn_count  \n",
       "0            [2, 1, 1]  \n",
       "1               [1, 2]  \n",
       "2            [1, 1, 1]  \n",
       "3               [3, 1]  \n",
       "4            [1, 1, 1]  \n",
       "5                  [3]  "
      ]
     },
     "execution_count": 16,
     "metadata": {},
     "output_type": "execute_result"
    }
   ],
   "source": [
    "purchase_data"
   ]
  },
  {
   "cell_type": "markdown",
   "metadata": {},
   "source": [
    "# Encode Customer and Product IDs"
   ]
  },
  {
   "cell_type": "markdown",
   "metadata": {},
   "source": [
    "# Prepare Sequences"
   ]
  },
  {
   "cell_type": "code",
   "execution_count": 19,
   "metadata": {},
   "outputs": [
    {
     "name": "stdout",
     "output_type": "stream",
     "text": [
      "<class 'pandas.core.frame.DataFrame'>\n",
      "RangeIndex: 6 entries, 0 to 5\n",
      "Data columns (total 5 columns):\n",
      " #   Column                   Non-Null Count  Dtype \n",
      "---  ------                   --------------  ----- \n",
      " 0   Unnamed: 0               6 non-null      int64 \n",
      " 1   customer_idx             6 non-null      int64 \n",
      " 2   list_purch_product       6 non-null      object\n",
      " 3   list_purch_month_number  6 non-null      object\n",
      " 4   list_purch_txn_count     6 non-null      object\n",
      "dtypes: int64(2), object(3)\n",
      "memory usage: 368.0+ bytes\n",
      "None\n",
      "0    [101, 103, 105]\n",
      "1         [102, 104]\n",
      "2    [103, 103, 109]\n",
      "3         [108, 107]\n",
      "4    [101, 107, 103]\n",
      "5              [110]\n",
      "Name: list_purch_product, dtype: object\n",
      "2\n",
      "0    [0, 2, 4]\n",
      "1       [1, 3]\n",
      "2    [2, 2, 8]\n",
      "3       [7, 6]\n",
      "4    [0, 6, 2]\n",
      "5          [9]\n",
      "Name: list_purch_product, dtype: object\n"
     ]
    }
   ],
   "source": [
    "# Encode customer IDs\n",
    "customer_encoder = LabelEncoder()\n",
    "customer_base['customer_idx'] = customer_encoder.fit_transform(customer_base['customer_id'])\n",
    "customer_id_to_idx = dict(zip(customer_base['customer_id'], customer_base['customer_idx']))\n",
    "\n",
    "# Encode product IDs\n",
    "product_encoder = LabelEncoder()\n",
    "product_base['product_idx'] = product_encoder.fit_transform(product_base['product_id'])\n",
    "product_id_to_idx = dict(zip(product_base['product_id'], product_base['product_idx']))\n",
    "\n",
    "# Update purchase_data with encoded IDs\n",
    "purchase_data['customer_idx'] = purchase_data['customer_idx'].map(lambda x: customer_id_to_idx.get(x, x))\n",
    "print(purchase_data.info())\n",
    "print(purchase_data['list_purch_product'])\n",
    "print(product_id_to_idx[103])\n",
    "def safe_convert(x):\n",
    "    if isinstance(x, str):\n",
    "        try:\n",
    "            return [product_id_to_idx.get(pid, pid) for pid in ast.literal_eval(x)]\n",
    "        except:\n",
    "            print(f\"Failed to convert: {x}\")\n",
    "            return []\n",
    "    elif isinstance(x, list):\n",
    "        return [product_id_to_idx.get(pid, pid) for pid in x]\n",
    "    else:\n",
    "        print(f\"Unexpected type: {type(x)}, value: {x}\")\n",
    "        return []\n",
    "\n",
    "purchase_data['list_purch_product'] = purchase_data['list_purch_product'].apply(safe_convert)\n",
    "\n",
    "print(purchase_data['list_purch_product'])\n"
   ]
  },
  {
   "cell_type": "code",
   "execution_count": 20,
   "metadata": {},
   "outputs": [
    {
     "data": {
      "text/html": [
       "<div>\n",
       "<style scoped>\n",
       "    .dataframe tbody tr th:only-of-type {\n",
       "        vertical-align: middle;\n",
       "    }\n",
       "\n",
       "    .dataframe tbody tr th {\n",
       "        vertical-align: top;\n",
       "    }\n",
       "\n",
       "    .dataframe thead th {\n",
       "        text-align: right;\n",
       "    }\n",
       "</style>\n",
       "<table border=\"1\" class=\"dataframe\">\n",
       "  <thead>\n",
       "    <tr style=\"text-align: right;\">\n",
       "      <th></th>\n",
       "      <th>Unnamed: 0</th>\n",
       "      <th>customer_idx</th>\n",
       "      <th>list_purch_product</th>\n",
       "      <th>list_purch_month_number</th>\n",
       "      <th>list_purch_txn_count</th>\n",
       "    </tr>\n",
       "  </thead>\n",
       "  <tbody>\n",
       "    <tr>\n",
       "      <th>0</th>\n",
       "      <td>0</td>\n",
       "      <td>0</td>\n",
       "      <td>[0, 2, 4]</td>\n",
       "      <td>[1, 3, 5]</td>\n",
       "      <td>[2, 1, 1]</td>\n",
       "    </tr>\n",
       "    <tr>\n",
       "      <th>1</th>\n",
       "      <td>1</td>\n",
       "      <td>1</td>\n",
       "      <td>[1, 3]</td>\n",
       "      <td>[2, 4]</td>\n",
       "      <td>[1, 2]</td>\n",
       "    </tr>\n",
       "    <tr>\n",
       "      <th>2</th>\n",
       "      <td>2</td>\n",
       "      <td>2</td>\n",
       "      <td>[2, 2, 8]</td>\n",
       "      <td>[1, 2, 3]</td>\n",
       "      <td>[1, 1, 1]</td>\n",
       "    </tr>\n",
       "    <tr>\n",
       "      <th>3</th>\n",
       "      <td>3</td>\n",
       "      <td>3</td>\n",
       "      <td>[7, 6]</td>\n",
       "      <td>[5, 6]</td>\n",
       "      <td>[3, 1]</td>\n",
       "    </tr>\n",
       "    <tr>\n",
       "      <th>4</th>\n",
       "      <td>4</td>\n",
       "      <td>4</td>\n",
       "      <td>[0, 6, 2]</td>\n",
       "      <td>[1, 8, 12]</td>\n",
       "      <td>[1, 1, 1]</td>\n",
       "    </tr>\n",
       "    <tr>\n",
       "      <th>5</th>\n",
       "      <td>5</td>\n",
       "      <td>5</td>\n",
       "      <td>[9]</td>\n",
       "      <td>[9]</td>\n",
       "      <td>[3]</td>\n",
       "    </tr>\n",
       "  </tbody>\n",
       "</table>\n",
       "</div>"
      ],
      "text/plain": [
       "   Unnamed: 0  customer_idx list_purch_product list_purch_month_number  \\\n",
       "0           0             0          [0, 2, 4]               [1, 3, 5]   \n",
       "1           1             1             [1, 3]                  [2, 4]   \n",
       "2           2             2          [2, 2, 8]               [1, 2, 3]   \n",
       "3           3             3             [7, 6]                  [5, 6]   \n",
       "4           4             4          [0, 6, 2]              [1, 8, 12]   \n",
       "5           5             5                [9]                     [9]   \n",
       "\n",
       "  list_purch_txn_count  \n",
       "0            [2, 1, 1]  \n",
       "1               [1, 2]  \n",
       "2            [1, 1, 1]  \n",
       "3               [3, 1]  \n",
       "4            [1, 1, 1]  \n",
       "5                  [3]  "
      ]
     },
     "execution_count": 20,
     "metadata": {},
     "output_type": "execute_result"
    }
   ],
   "source": [
    "purchase_data"
   ]
  },
  {
   "cell_type": "code",
   "execution_count": 21,
   "metadata": {},
   "outputs": [],
   "source": [
    "\n",
    "sequences = []\n",
    "for _, row in purchase_data.iterrows():\n",
    "    customer_idx = row['customer_idx']\n",
    "    products = row['list_purch_product']\n",
    "    for i in range(1, len(products)):\n",
    "        sequences.append((customer_idx, products[:i], products[i]))"
   ]
  },
  {
   "cell_type": "code",
   "execution_count": 22,
   "metadata": {},
   "outputs": [
    {
     "data": {
      "text/plain": [
       "[(0, [0], 2),\n",
       " (0, [0, 2], 4),\n",
       " (1, [1], 3),\n",
       " (2, [2], 2),\n",
       " (2, [2, 2], 8),\n",
       " (3, [7], 6),\n",
       " (4, [0], 6),\n",
       " (4, [0, 6], 2)]"
      ]
     },
     "execution_count": 22,
     "metadata": {},
     "output_type": "execute_result"
    }
   ],
   "source": [
    "sequences"
   ]
  },
  {
   "cell_type": "code",
   "execution_count": 23,
   "metadata": {},
   "outputs": [],
   "source": [
    "# Prepare Features\n",
    "# Convert features to numpy arrays for quick access\n",
    "customer_features = customer_base.set_index('customer_id').values\n",
    "product_features = product_base.set_index('product_id').values\n",
    "\n",
    "# Map indices to features\n",
    "customer_features = {idx: feats for idx, feats in enumerate(customer_features)}\n",
    "product_features = {idx: feats for idx, feats in enumerate(product_features)}"
   ]
  },
  {
   "cell_type": "code",
   "execution_count": 24,
   "metadata": {},
   "outputs": [],
   "source": [
    "# Get max sequence length and number of products\n",
    "max_seq_len = max(len(seq[1]) for seq in sequences)\n",
    "num_products = len(product_id_to_idx)"
   ]
  },
  {
   "cell_type": "code",
   "execution_count": 25,
   "metadata": {},
   "outputs": [
    {
     "data": {
      "text/plain": [
       "2"
      ]
     },
     "execution_count": 25,
     "metadata": {},
     "output_type": "execute_result"
    }
   ],
   "source": [
    "max_seq_len"
   ]
  },
  {
   "cell_type": "code",
   "execution_count": 26,
   "metadata": {},
   "outputs": [
    {
     "data": {
      "text/plain": [
       "10"
      ]
     },
     "execution_count": 26,
     "metadata": {},
     "output_type": "execute_result"
    }
   ],
   "source": [
    "num_products"
   ]
  },
  {
   "cell_type": "code",
   "execution_count": 43,
   "metadata": {},
   "outputs": [
    {
     "data": {
      "text/plain": [
       "[(0, [0], 2),\n",
       " (0, [0, 2], 4),\n",
       " (1, [1], 3),\n",
       " (2, [2], 2),\n",
       " (2, [2, 2], 8),\n",
       " (3, [7], 6),\n",
       " (4, [0], 6),\n",
       " (4, [0, 6], 2)]"
      ]
     },
     "execution_count": 43,
     "metadata": {},
     "output_type": "execute_result"
    }
   ],
   "source": [
    "sequences"
   ]
  },
  {
   "cell_type": "code",
   "execution_count": 41,
   "metadata": {},
   "outputs": [],
   "source": [
    "# Prepare samples\n",
    "samples = []\n",
    "negative_samples = 1\n",
    "import random\n",
    "for customer_id, seq, pos_product in sequences:\n",
    "    # Positive sample\n",
    "    samples.append((customer_id, seq, pos_product, 1))\n",
    "    # Negative samples\n",
    "    for _ in range(negative_samples):\n",
    "        neg_product = random.randint(0, num_products - 1)\n",
    "        while neg_product in seq:\n",
    "            neg_product = random.randint(0, num_products - 1)\n",
    "        samples.append((customer_id, seq, neg_product, 0))"
   ]
  },
  {
   "cell_type": "code",
   "execution_count": 42,
   "metadata": {},
   "outputs": [
    {
     "data": {
      "text/plain": [
       "[(0, [0], 2, 1),\n",
       " (0, [0], 4, 0),\n",
       " (0, [0, 2], 4, 1),\n",
       " (0, [0, 2], 8, 0),\n",
       " (1, [1], 3, 1),\n",
       " (1, [1], 0, 0),\n",
       " (2, [2], 2, 1),\n",
       " (2, [2], 1, 0),\n",
       " (2, [2, 2], 8, 1),\n",
       " (2, [2, 2], 9, 0),\n",
       " (3, [7], 6, 1),\n",
       " (3, [7], 2, 0),\n",
       " (4, [0], 6, 1),\n",
       " (4, [0], 3, 0),\n",
       " (4, [0, 6], 2, 1),\n",
       " (4, [0, 6], 1, 0)]"
      ]
     },
     "execution_count": 42,
     "metadata": {},
     "output_type": "execute_result"
    }
   ],
   "source": [
    "samples"
   ]
  },
  {
   "cell_type": "code",
   "execution_count": 48,
   "metadata": {},
   "outputs": [],
   "source": [
    "# Function to get a single item\n",
    "def get_item(idx):\n",
    "    customer_id, seq, product_id, label = samples[idx]\n",
    "    \n",
    "    # Pad sequence\n",
    "    seq_padded = seq + [0]*(max_seq_len - len(seq)) if len(seq) < max_seq_len else seq[-max_seq_len:]\n",
    "    print(seq_padded)\n",
    "    # Get features\n",
    "    customer_feat = customer_features[customer_id]\n",
    "    seq_product_feats = [product_features[pid] for pid in seq_padded]\n",
    "    product_feat = product_features[product_id]\n",
    "    print(f\"customer_feat is equal to : {customer_feat}\")\n",
    "    \n",
    "    return {\n",
    "        'customer_feat': torch.tensor(customer_feat, dtype=torch.float),\n",
    "        'seq_product_feats': torch.tensor(seq_product_feats, dtype=torch.float),\n",
    "        'sequence': torch.tensor(seq_padded, dtype=torch.long),\n",
    "        'product_feat': torch.tensor(product_feat, dtype=torch.float),\n",
    "        'product_id': torch.tensor(product_id, dtype=torch.long),\n",
    "        'label': torch.tensor(label, dtype=torch.float)\n",
    "    }"
   ]
  },
  {
   "cell_type": "code",
   "execution_count": 49,
   "metadata": {},
   "outputs": [
    {
     "name": "stdout",
     "output_type": "stream",
     "text": [
      "[0, 0]\n",
      "[0 28 'Female' 'New York' '2019-06-15' 75 \"['Electronics', 'Books']\"\n",
      " 150.75 25 '2021-08-10' 0]\n"
     ]
    },
    {
     "ename": "TypeError",
     "evalue": "can't convert np.ndarray of type numpy.object_. The only supported types are: float64, float32, float16, complex64, complex128, int64, int32, int16, int8, uint8, and bool.",
     "output_type": "error",
     "traceback": [
      "\u001b[0;31m---------------------------------------------------------------------------\u001b[0m",
      "\u001b[0;31mTypeError\u001b[0m                                 Traceback (most recent call last)",
      "Cell \u001b[0;32mIn [49], line 3\u001b[0m\n\u001b[1;32m      1\u001b[0m \u001b[38;5;66;03m# View a few samples\u001b[39;00m\n\u001b[1;32m      2\u001b[0m \u001b[38;5;28;01mfor\u001b[39;00m i \u001b[38;5;129;01min\u001b[39;00m \u001b[38;5;28mrange\u001b[39m(\u001b[38;5;241m5\u001b[39m):\n\u001b[0;32m----> 3\u001b[0m     sample \u001b[38;5;241m=\u001b[39m \u001b[43mget_item\u001b[49m\u001b[43m(\u001b[49m\u001b[43mi\u001b[49m\u001b[43m)\u001b[49m\n\u001b[1;32m      4\u001b[0m     \u001b[38;5;28mprint\u001b[39m(\u001b[38;5;124mf\u001b[39m\u001b[38;5;124m\"\u001b[39m\u001b[38;5;124mSample \u001b[39m\u001b[38;5;132;01m{\u001b[39;00mi\u001b[38;5;132;01m}\u001b[39;00m\u001b[38;5;124m:\u001b[39m\u001b[38;5;124m\"\u001b[39m)\n\u001b[1;32m      5\u001b[0m     \u001b[38;5;28;01mfor\u001b[39;00m key, value \u001b[38;5;129;01min\u001b[39;00m sample\u001b[38;5;241m.\u001b[39mitems():\n",
      "Cell \u001b[0;32mIn [48], line 15\u001b[0m, in \u001b[0;36mget_item\u001b[0;34m(idx)\u001b[0m\n\u001b[1;32m     11\u001b[0m product_feat \u001b[38;5;241m=\u001b[39m product_features[product_id]\n\u001b[1;32m     12\u001b[0m \u001b[38;5;28mprint\u001b[39m(customer_feat)\n\u001b[1;32m     14\u001b[0m \u001b[38;5;28;01mreturn\u001b[39;00m {\n\u001b[0;32m---> 15\u001b[0m     \u001b[38;5;124m'\u001b[39m\u001b[38;5;124mcustomer_feat\u001b[39m\u001b[38;5;124m'\u001b[39m: \u001b[43mtorch\u001b[49m\u001b[38;5;241;43m.\u001b[39;49m\u001b[43mtensor\u001b[49m\u001b[43m(\u001b[49m\u001b[43mcustomer_feat\u001b[49m\u001b[43m,\u001b[49m\u001b[43m \u001b[49m\u001b[43mdtype\u001b[49m\u001b[38;5;241;43m=\u001b[39;49m\u001b[43mtorch\u001b[49m\u001b[38;5;241;43m.\u001b[39;49m\u001b[43mfloat\u001b[49m\u001b[43m)\u001b[49m,\n\u001b[1;32m     16\u001b[0m     \u001b[38;5;124m'\u001b[39m\u001b[38;5;124mseq_product_feats\u001b[39m\u001b[38;5;124m'\u001b[39m: torch\u001b[38;5;241m.\u001b[39mtensor(seq_product_feats, dtype\u001b[38;5;241m=\u001b[39mtorch\u001b[38;5;241m.\u001b[39mfloat),\n\u001b[1;32m     17\u001b[0m     \u001b[38;5;124m'\u001b[39m\u001b[38;5;124msequence\u001b[39m\u001b[38;5;124m'\u001b[39m: torch\u001b[38;5;241m.\u001b[39mtensor(seq_padded, dtype\u001b[38;5;241m=\u001b[39mtorch\u001b[38;5;241m.\u001b[39mlong),\n\u001b[1;32m     18\u001b[0m     \u001b[38;5;124m'\u001b[39m\u001b[38;5;124mproduct_feat\u001b[39m\u001b[38;5;124m'\u001b[39m: torch\u001b[38;5;241m.\u001b[39mtensor(product_feat, dtype\u001b[38;5;241m=\u001b[39mtorch\u001b[38;5;241m.\u001b[39mfloat),\n\u001b[1;32m     19\u001b[0m     \u001b[38;5;124m'\u001b[39m\u001b[38;5;124mproduct_id\u001b[39m\u001b[38;5;124m'\u001b[39m: torch\u001b[38;5;241m.\u001b[39mtensor(product_id, dtype\u001b[38;5;241m=\u001b[39mtorch\u001b[38;5;241m.\u001b[39mlong),\n\u001b[1;32m     20\u001b[0m     \u001b[38;5;124m'\u001b[39m\u001b[38;5;124mlabel\u001b[39m\u001b[38;5;124m'\u001b[39m: torch\u001b[38;5;241m.\u001b[39mtensor(label, dtype\u001b[38;5;241m=\u001b[39mtorch\u001b[38;5;241m.\u001b[39mfloat)\n\u001b[1;32m     21\u001b[0m }\n",
      "\u001b[0;31mTypeError\u001b[0m: can't convert np.ndarray of type numpy.object_. The only supported types are: float64, float32, float16, complex64, complex128, int64, int32, int16, int8, uint8, and bool."
     ]
    }
   ],
   "source": [
    "# View a few samples\n",
    "for i in range(5):\n",
    "    sample = get_item(i)\n",
    "    print(f\"Sample {i}:\")\n",
    "    for key, value in sample.items():\n",
    "        print(f\"  {key}: {value}\")\n",
    "    print()"
   ]
  },
  {
   "cell_type": "code",
   "execution_count": null,
   "metadata": {},
   "outputs": [],
   "source": []
  }
 ],
 "metadata": {
  "kernelspec": {
   "display_name": "Python 3",
   "language": "python",
   "name": "python3"
  },
  "language_info": {
   "codemirror_mode": {
    "name": "ipython",
    "version": 3
   },
   "file_extension": ".py",
   "mimetype": "text/x-python",
   "name": "python",
   "nbconvert_exporter": "python",
   "pygments_lexer": "ipython3",
   "version": "3.9.6"
  }
 },
 "nbformat": 4,
 "nbformat_minor": 2
}
